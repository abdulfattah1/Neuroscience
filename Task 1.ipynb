{
 "cells": [
  {
   "cell_type": "code",
   "execution_count": 3,
   "id": "fef4ac17",
   "metadata": {},
   "outputs": [
    {
     "name": "stdout",
     "output_type": "stream",
     "text": [
      "Output of the network: 0.6736515611694018 0.5832404835285425\n"
     ]
    }
   ],
   "source": [
    "import random\n",
    "\n",
    "def tanh(x):\n",
    "    return (2 / (1 + 2.718281828459045 ** (-2 * x))) - 1\n",
    "\n",
    "def neural_network(inputs, weights, biases):\n",
    "    hidden_layer_input = [sum([inputs[i] * weights[0][i] for i in range(len(inputs))]) + biases[0]]\n",
    "    hidden_layer_output = [tanh(hidden_layer_input[0])]\n",
    "    \n",
    "    output_layer_input1 = hidden_layer_output[0] * weights[1][0] + biases[1]\n",
    "    output_layer_input2 = hidden_layer_output[0] * weights[1][1] + biases[1]\n",
    "    \n",
    "    output_layer_output1 = tanh(output_layer_input1)\n",
    "    output_layer_output2 = tanh(output_layer_input2)\n",
    "    \n",
    "    return output_layer_output1, output_layer_output2\n",
    "\n",
    "weights = [\n",
    "    [random.uniform(-0.5, 0.5) for _ in range(2)],  \n",
    "    [random.uniform(-0.5, 0.5) for _ in range(2)]   \n",
    "]\n",
    "\n",
    "biases = [0.5, 0.7]\n",
    "\n",
    "inputs = [0.5, -0.3]\n",
    "\n",
    "output1, output2 = neural_network(inputs, weights, biases)\n",
    "\n",
    "print(\"Output of the network:\", output1, output2)"
   ]
  },
  {
   "cell_type": "code",
   "execution_count": null,
   "id": "8b693467",
   "metadata": {},
   "outputs": [],
   "source": []
  }
 ],
 "metadata": {
  "kernelspec": {
   "display_name": "Python 3 (ipykernel)",
   "language": "python",
   "name": "python3"
  },
  "language_info": {
   "codemirror_mode": {
    "name": "ipython",
    "version": 3
   },
   "file_extension": ".py",
   "mimetype": "text/x-python",
   "name": "python",
   "nbconvert_exporter": "python",
   "pygments_lexer": "ipython3",
   "version": "3.9.13"
  }
 },
 "nbformat": 4,
 "nbformat_minor": 5
}
