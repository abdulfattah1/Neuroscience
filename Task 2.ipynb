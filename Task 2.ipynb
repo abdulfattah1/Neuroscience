{
 "cells": [
  {
   "cell_type": "code",
   "execution_count": 1,
   "id": "5a3b92c3",
   "metadata": {},
   "outputs": [
    {
     "name": "stdout",
     "output_type": "stream",
     "text": [
      "Epoch 0, Outputs: [0.4859709001135635, 0.7065990999217859]\n",
      "Epoch 1000, Outputs: [0.10000004984277733, 0.8999998057810079]\n",
      "Epoch 2000, Outputs: [0.10000000000010689, 0.8999999999995845]\n",
      "Epoch 3000, Outputs: [0.10000000000000031, 0.8999999999999988]\n",
      "Epoch 4000, Outputs: [0.10000000000000031, 0.8999999999999988]\n",
      "Epoch 5000, Outputs: [0.10000000000000031, 0.8999999999999988]\n",
      "Epoch 6000, Outputs: [0.10000000000000031, 0.8999999999999988]\n",
      "Epoch 7000, Outputs: [0.10000000000000031, 0.8999999999999988]\n",
      "Epoch 8000, Outputs: [0.10000000000000031, 0.8999999999999988]\n",
      "Epoch 9000, Outputs: [0.10000000000000031, 0.8999999999999988]\n",
      "Final outputs: [0.10000000000000031, 0.8999999999999988]\n"
     ]
    }
   ],
   "source": [
    "import random\n",
    "\n",
    "def tanh(x):\n",
    "    return (2 / (1 + 2.718281828459045 ** (-2 * x))) - 1\n",
    "\n",
    "def tanh_derivative(x):\n",
    "    return 1 - tanh(x) ** 2\n",
    "\n",
    "def initialize_weights_and_biases():\n",
    "    weights = [\n",
    "        [random.uniform(-0.5, 0.5) for _ in range(2)],  \n",
    "        [random.uniform(-0.5, 0.5) for _ in range(2)]   \n",
    "    ]\n",
    "    biases = [0.5, 0.7]\n",
    "    return weights, biases\n",
    "\n",
    "def forward_pass(inputs, weights, biases):\n",
    "    \n",
    "    hidden_layer_input = [sum([inputs[i] * weights[0][i] for i in range(len(inputs))]) + biases[0]]\n",
    "    hidden_layer_output = [tanh(hidden_layer_input[0])]\n",
    "    \n",
    "    output_layer_input1 = hidden_layer_output[0] * weights[1][0] + biases[1]\n",
    "    output_layer_input2 = hidden_layer_output[0] * weights[1][1] + biases[1]\n",
    "    \n",
    "    output_layer_output1 = tanh(output_layer_input1)\n",
    "    output_layer_output2 = tanh(output_layer_input2)\n",
    "    \n",
    "    return hidden_layer_output, [output_layer_output1, output_layer_output2]\n",
    "\n",
    "def backward_pass(inputs, hidden_layer_output, outputs, targets, weights, biases, learning_rate):\n",
    "    \n",
    "    output_errors = [targets[i] - outputs[i] for i in range(len(outputs))]\n",
    "    \n",
    "    output_gradients = [output_errors[i] * tanh_derivative(outputs[i]) for i in range(len(outputs))]\n",
    "    \n",
    "    for i in range(len(weights[1])):\n",
    "        weights[1][i] += learning_rate * output_gradients[i] * hidden_layer_output[0]\n",
    "    biases[1] += learning_rate * sum(output_gradients)\n",
    "    \n",
    "    hidden_errors = [sum([output_gradients[i] * weights[1][i] for i in range(len(output_gradients))]) * tanh_derivative(hidden_layer_output[0])]\n",
    "    \n",
    "    for i in range(len(weights[0])):\n",
    "        weights[0][i] += learning_rate * hidden_errors[0] * inputs[i]\n",
    "    biases[0] += learning_rate * hidden_errors[0]\n",
    "    \n",
    "    return weights, biases\n",
    "\n",
    "def train_network(inputs, targets, weights, biases, learning_rate, epochs):\n",
    "    for epoch in range(epochs):\n",
    "        hidden_layer_output, outputs = forward_pass(inputs, weights, biases)\n",
    "        weights, biases = backward_pass(inputs, hidden_layer_output, outputs, targets, weights, biases, learning_rate)\n",
    "        \n",
    "        if epoch % 1000 == 0:\n",
    "            print(f\"Epoch {epoch}, Outputs: {outputs}\")\n",
    "\n",
    "inputs = [0.5, -0.3]\n",
    "targets = [0.1, 0.9]\n",
    "weights, biases = initialize_weights_and_biases()\n",
    "learning_rate = 0.1\n",
    "epochs = 10000\n",
    "\n",
    "train_network(inputs, targets, weights, biases, learning_rate, epochs)\n",
    "\n",
    "hidden_layer_output, final_outputs = forward_pass(inputs, weights, biases)\n",
    "print(\"Final outputs:\", final_outputs)"
   ]
  },
  {
   "cell_type": "code",
   "execution_count": null,
   "id": "637dabf2",
   "metadata": {},
   "outputs": [],
   "source": []
  }
 ],
 "metadata": {
  "kernelspec": {
   "display_name": "Python 3 (ipykernel)",
   "language": "python",
   "name": "python3"
  },
  "language_info": {
   "codemirror_mode": {
    "name": "ipython",
    "version": 3
   },
   "file_extension": ".py",
   "mimetype": "text/x-python",
   "name": "python",
   "nbconvert_exporter": "python",
   "pygments_lexer": "ipython3",
   "version": "3.9.13"
  }
 },
 "nbformat": 4,
 "nbformat_minor": 5
}
