{
 "cells": [
  {
   "cell_type": "code",
   "execution_count": 1,
   "id": "da3f438e",
   "metadata": {},
   "outputs": [],
   "source": [
    "vocab = ['I', 'love', 'deep', 'learning']\n",
    "\n",
    "word_to_index = {w: i for i, w in enumerate(vocab)}\n",
    "index_to_word = {i: w for w, i in word_to_index.items()}\n",
    "\n",
    "vocab_size = len(vocab)"
   ]
  },
  {
   "cell_type": "code",
   "execution_count": 2,
   "id": "94dd409e",
   "metadata": {},
   "outputs": [],
   "source": [
    "import random\n",
    "\n",
    "def random_matrix(rows, cols):\n",
    "    return [[random.uniform(-0.1, 0.1) for _ in range(cols)] for _ in range(rows)]\n",
    "\n",
    "input_size = vocab_size    \n",
    "hidden_size = 5            \n",
    "output_size = vocab_size   \n",
    "\n",
    "Wxh = random_matrix(hidden_size, input_size)\n",
    "Whh = random_matrix(hidden_size, hidden_size)\n",
    "Why = random_matrix(output_size, hidden_size)\n",
    "bh = [0 for _ in range(hidden_size)]\n",
    "by = [0 for _ in range(output_size)]"
   ]
  },
  {
   "cell_type": "code",
   "execution_count": 3,
   "id": "c08319b3",
   "metadata": {},
   "outputs": [],
   "source": [
    "def mat_vec_mul(mat, vec):\n",
    "    return [sum(m*v for m, v in zip(row, vec)) for row in mat]\n",
    "\n",
    "def vec_add(vec1, vec2):\n",
    "    return [a + b for a, b in zip(vec1, vec2)]\n",
    "\n",
    "def tanh(vec):\n",
    "    return [ ( (2 / (1 + pow(2.71828, -2*x))) - 1 ) for x in vec]  # approximate tanh\n",
    "\n",
    "def softmax(vec):\n",
    "    exp_vec = [pow(2.71828, x) for x in vec]\n",
    "    total = sum(exp_vec)\n",
    "    return [x/total for x in exp_vec]\n",
    "\n",
    "def one_hot(index, size):\n",
    "    vec = [0] * size\n",
    "    vec[index] = 1\n",
    "    return vec"
   ]
  },
  {
   "cell_type": "code",
   "execution_count": 4,
   "id": "254f31be",
   "metadata": {},
   "outputs": [
    {
     "name": "stdout",
     "output_type": "stream",
     "text": [
      "Predicted word: learning\n"
     ]
    }
   ],
   "source": [
    "inputs = [word_to_index['I'], word_to_index['love'], word_to_index['deep']]\n",
    "\n",
    "inputs_one_hot = [one_hot(i, vocab_size) for i in inputs]\n",
    "\n",
    "h = [0] * hidden_size\n",
    "\n",
    "for x in inputs_one_hot:\n",
    "    h = tanh(vec_add(mat_vec_mul(Wxh, x), vec_add(mat_vec_mul(Whh, h), bh)))\n",
    "\n",
    "y = vec_add(mat_vec_mul(Why, h), by)\n",
    "probs = softmax(y)\n",
    "\n",
    "predicted_index = probs.index(max(probs))\n",
    "predicted_word = index_to_word[predicted_index]\n",
    "\n",
    "print(f\"Predicted word: {predicted_word}\")"
   ]
  },
  {
   "cell_type": "code",
   "execution_count": null,
   "id": "ec47a0ef",
   "metadata": {},
   "outputs": [],
   "source": []
  }
 ],
 "metadata": {
  "kernelspec": {
   "display_name": "Python 3 (ipykernel)",
   "language": "python",
   "name": "python3"
  },
  "language_info": {
   "codemirror_mode": {
    "name": "ipython",
    "version": 3
   },
   "file_extension": ".py",
   "mimetype": "text/x-python",
   "name": "python",
   "nbconvert_exporter": "python",
   "pygments_lexer": "ipython3",
   "version": "3.9.13"
  }
 },
 "nbformat": 4,
 "nbformat_minor": 5
}
